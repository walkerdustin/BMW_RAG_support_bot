{
 "cells": [
  {
   "cell_type": "markdown",
   "metadata": {},
   "source": [
    "# Get the user manual pdfs\n",
    "I got most of the pdfs by manually downloading from the official download link https://driversguide.bmw.com/index.html   \n",
    "The rest I got with google  \n",
    "\"bmw e21 user manual filetype:pdf\"\n",
    "\n",
    "other usefull links:  \n",
    "https://pdfarchiv-next-backend.api.bmw/api/download?locale=en-US&uuid=d68be686-3b4e-4ede-ab85-7f93b1fdae9d  \n",
    "https://pdfarchiv-next-backend.api.bmw/api/download?locale=en-US&uuid=d68be686-3b4e-4ede-ab85-7f93b1fdae9d  \n",
    "https://driversguide.bmw.com/index.html  \n",
    "https://en.bmw-club.cz/manuals.php?ddlb_category=7  \n",
    "\n"
   ]
  },
  {
   "cell_type": "markdown",
   "metadata": {},
   "source": [
    "In total I have 7000 pages of pdf"
   ]
  }
 ],
 "metadata": {
  "kernelspec": {
   "display_name": "venv",
   "language": "python",
   "name": "python3"
  },
  "language_info": {
   "codemirror_mode": {
    "name": "ipython",
    "version": 3
   },
   "file_extension": ".py",
   "mimetype": "text/x-python",
   "name": "python",
   "nbconvert_exporter": "python",
   "pygments_lexer": "ipython3",
   "version": "3.12.0"
  }
 },
 "nbformat": 4,
 "nbformat_minor": 2
}
