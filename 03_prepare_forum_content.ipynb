{
 "cells": [
  {
   "cell_type": "code",
   "execution_count": 2,
   "metadata": {},
   "outputs": [],
   "source": [
    "import pandas as pd\n",
    "import numpy as np\n",
    "from datetime import datetime, timedelta\n",
    "from bidict import bidict\n",
    "import json"
   ]
  },
  {
   "cell_type": "code",
   "execution_count": 3,
   "metadata": {},
   "outputs": [],
   "source": [
    "df_3er_and_4er_forum_posts_extended = pd.read_pickle(\"data/3er_and_4er_forum_posts_extended.pkl\")\n",
    "df_3er_and_4er_forum_threads = pd.read_pickle(\"data/3er_and_4er_forum_threads.pkl\")"
   ]
  },
  {
   "cell_type": "code",
   "execution_count": 4,
   "metadata": {},
   "outputs": [],
   "source": [
    "# remove the threads, that have only 1 post\n",
    "all_threads_without_answer = df_3er_and_4er_forum_posts_extended[\"Thread_ID\"].value_counts()[df_3er_and_4er_forum_posts_extended[\"Thread_ID\"].value_counts() == 1].index.values\n",
    "df_3er_and_4er_forum_posts_filtered = df_3er_and_4er_forum_posts_extended[~df_3er_and_4er_forum_posts_extended[\"Thread_ID\"].isin(all_threads_without_answer)]"
   ]
  },
  {
   "cell_type": "code",
   "execution_count": 5,
   "metadata": {},
   "outputs": [
    {
     "data": {
      "text/plain": [
       "<Axes: xlabel='number of posts in thread', ylabel='number of threads'>"
      ]
     },
     "execution_count": 5,
     "metadata": {},
     "output_type": "execute_result"
    },
    {
     "data": {
      "image/png": "[encoded data removed]",
      "text/plain": [
       "<Figure size 640x480 with 1 Axes>"
      ]
     },
     "metadata": {},
     "output_type": "display_data"
    }
   ],
   "source": [
    "df_3er_and_4er_forum_posts_filtered[\"Thread_ID\"].value_counts().value_counts().sort_index()[:50].plot(kind=\"bar\", xlabel=\"number of posts in thread\", ylabel=\"number of threads\")"
   ]
  },
  {
   "cell_type": "code",
   "execution_count": 6,
   "metadata": {},
   "outputs": [
    {
     "name": "stdout",
     "output_type": "stream",
     "text": [
      "username#1\n",
      "320iAman\n"
     ]
    }
   ],
   "source": [
    "# I want to make all usernames anonimous\n",
    "# But I want to keep an indication of who wrote what post, because sometimes people are refereing to a specific person\n",
    "\n",
    "# look at all posts\n",
    "# get all usernames\n",
    "# sort usernames by number of posts\n",
    "# map usernames to username#1, username#2, etc.\n",
    "# save mapping in a dictionary\n",
    "# save mapping in a json file\n",
    "\n",
    "# get all usernames\n",
    "# sort usernames by number of posts\n",
    "usernames = df_3er_and_4er_forum_posts_filtered[\"Username\"].value_counts().index.values\n",
    "\n",
    "mapping = {username:f\"username#{i}\" for i, username in enumerate(usernames)}\n",
    "bmapping = bidict(mapping)\n",
    "print(bmapping[\"320iAman\"])\n",
    "print(bmapping.inv[\"username#1\"])\n",
    "\n",
    "# Save the bidirectional mapping to a JSON file\n",
    "with open('data/mapping.json', 'w') as file:\n",
    "    json.dump(mapping, file)\n",
    "\n",
    "# Load the bidirectional mapping from a JSON file\n",
    "with open('data/mapping.json', 'r') as file:\n",
    "    loaded_dict = json.load(file)\n",
    "    restored_bidict = bidict(loaded_dict)"
   ]
  },
  {
   "cell_type": "code",
   "execution_count": 7,
   "metadata": {},
   "outputs": [
    {
     "data": {
      "text/plain": [
       "Thread_ID\n",
       "2478011    14\n",
       "1120132    14\n",
       "2476741    14\n",
       "2482573    14\n",
       "2475816    14\n",
       "2475755    14\n",
       "2393723    14\n",
       "1803074    14\n",
       "2478031    14\n",
       "2476195    14\n",
       "2478977    14\n",
       "1932544    13\n",
       "2473177    13\n",
       "2480190    13\n",
       "2477916    13\n",
       "2480726    13\n",
       "2472381    13\n",
       "2478202    13\n",
       "2470688    13\n",
       "2476510    13\n",
       "2140530    13\n",
       "2478686    13\n",
       "2477336    13\n",
       "2474327    13\n",
       "2482974    13\n",
       "2476423    13\n",
       "1726363    13\n",
       "2475803    13\n",
       "2476572    13\n",
       "2472537    13\n",
       "2366164    13\n",
       "2478235    13\n",
       "2331720    13\n",
       "2478643    13\n",
       "2479307    13\n",
       "2474956    13\n",
       "2477448    13\n",
       "2472153    13\n",
       "2441914    13\n",
       "1587380    13\n",
       "2483538    12\n",
       "2481652    12\n",
       "2386459    12\n",
       "2478454    12\n",
       "2484246    12\n",
       "2475330    12\n",
       "2357873    12\n",
       "1937117    12\n",
       "2477975    12\n",
       "2480840    12\n",
       "Name: count, dtype: int64"
      ]
     },
     "execution_count": 7,
     "metadata": {},
     "output_type": "execute_result"
    }
   ],
   "source": [
    "df_3er_and_4er_forum_posts_filtered[\"Thread_ID\"].value_counts()[300:350]"
   ]
  },
  {
   "cell_type": "code",
   "execution_count": 8,
   "metadata": {},
   "outputs": [
    {
     "data": {
      "text/html": [
       "<div>\n",
       "<style scoped>\n",
       "    .dataframe tbody tr th:only-of-type {\n",
       "        vertical-align: middle;\n",
       "    }\n",
       "\n",
       "    .dataframe tbody tr th {\n",
       "        vertical-align: top;\n",
       "    }\n",
       "\n",
       "    .dataframe thead th {\n",
       "        text-align: right;\n",
       "    }\n",
       "</style>\n",
       "<table border=\"1\" class=\"dataframe\">\n",
       "  <thead>\n",
       "    <tr style=\"text-align: right;\">\n",
       "      <th></th>\n",
       "      <th>Post_ID</th>\n",
       "      <th>Username</th>\n",
       "      <th>Posted_on_Date</th>\n",
       "      <th>content</th>\n",
       "      <th>Thread_ID</th>\n",
       "      <th>Subsubforum</th>\n",
       "    </tr>\n",
       "  </thead>\n",
       "  <tbody>\n",
       "    <tr>\n",
       "      <th>42140</th>\n",
       "      <td>30915257</td>\n",
       "      <td>ryanmkincaid</td>\n",
       "      <td>2023-11-03 12:42:00-04:00</td>\n",
       "      <td>It looks like Rack Doctor is shut down or some...</td>\n",
       "      <td>2480840</td>\n",
       "      <td>14-1991-1999-(E36)</td>\n",
       "    </tr>\n",
       "    <tr>\n",
       "      <th>42141</th>\n",
       "      <td>30915261</td>\n",
       "      <td>82eye</td>\n",
       "      <td>2023-11-03 13:02:00-04:00</td>\n",
       "      <td>\\nunfortunately they went sideways and scamm...</td>\n",
       "      <td>2480840</td>\n",
       "      <td>14-1991-1999-(E36)</td>\n",
       "    </tr>\n",
       "    <tr>\n",
       "      <th>42142</th>\n",
       "      <td>30915290</td>\n",
       "      <td>ryanmkincaid</td>\n",
       "      <td>2023-11-03 14:40:00-04:00</td>\n",
       "      <td>I saw that brand on dimmer world and while I'm...</td>\n",
       "      <td>2480840</td>\n",
       "      <td>14-1991-1999-(E36)</td>\n",
       "    </tr>\n",
       "    <tr>\n",
       "      <th>42143</th>\n",
       "      <td>30915292</td>\n",
       "      <td>sfcarguy</td>\n",
       "      <td>2023-11-03 14:47:00-04:00</td>\n",
       "      <td>AAE 3310N is the Z3 1.9 rack (2.7 turns) that ...</td>\n",
       "      <td>2480840</td>\n",
       "      <td>14-1991-1999-(E36)</td>\n",
       "    </tr>\n",
       "    <tr>\n",
       "      <th>42144</th>\n",
       "      <td>30915357</td>\n",
       "      <td>82eye</td>\n",
       "      <td>2023-11-03 21:26:00-04:00</td>\n",
       "      <td>all of their e36 racks ship under that number....</td>\n",
       "      <td>2480840</td>\n",
       "      <td>14-1991-1999-(E36)</td>\n",
       "    </tr>\n",
       "    <tr>\n",
       "      <th>42145</th>\n",
       "      <td>30915371</td>\n",
       "      <td>sfcarguy</td>\n",
       "      <td>2023-11-03 22:18:00-04:00</td>\n",
       "      <td>I see what you mean. Looks like AAE only offer...</td>\n",
       "      <td>2480840</td>\n",
       "      <td>14-1991-1999-(E36)</td>\n",
       "    </tr>\n",
       "    <tr>\n",
       "      <th>42146</th>\n",
       "      <td>30915394</td>\n",
       "      <td>82eye</td>\n",
       "      <td>2023-11-04 02:32:00-04:00</td>\n",
       "      <td>wouldn't be surprised if mine is actually one ...</td>\n",
       "      <td>2480840</td>\n",
       "      <td>14-1991-1999-(E36)</td>\n",
       "    </tr>\n",
       "    <tr>\n",
       "      <th>42147</th>\n",
       "      <td>30923010</td>\n",
       "      <td>vse36m3</td>\n",
       "      <td>2023-12-17 20:29:00-04:00</td>\n",
       "      <td>So far so good with the AAE 3310N for a 1997 M...</td>\n",
       "      <td>2480840</td>\n",
       "      <td>14-1991-1999-(E36)</td>\n",
       "    </tr>\n",
       "    <tr>\n",
       "      <th>42148</th>\n",
       "      <td>30923012</td>\n",
       "      <td>sfcarguy</td>\n",
       "      <td>2023-12-17 21:08:00-04:00</td>\n",
       "      <td>AAE says that their reman rack requires CHF11S...</td>\n",
       "      <td>2480840</td>\n",
       "      <td>14-1991-1999-(E36)</td>\n",
       "    </tr>\n",
       "    <tr>\n",
       "      <th>42149</th>\n",
       "      <td>30923083</td>\n",
       "      <td>vse36m3</td>\n",
       "      <td>2023-12-18 11:39:00-04:00</td>\n",
       "      <td>They're doing a pretty good job of pushing the...</td>\n",
       "      <td>2480840</td>\n",
       "      <td>14-1991-1999-(E36)</td>\n",
       "    </tr>\n",
       "    <tr>\n",
       "      <th>42150</th>\n",
       "      <td>30923404</td>\n",
       "      <td>82eye</td>\n",
       "      <td>2023-12-20 09:21:00-04:00</td>\n",
       "      <td>\\nmy aae rack came filled with regular red c...</td>\n",
       "      <td>2480840</td>\n",
       "      <td>14-1991-1999-(E36)</td>\n",
       "    </tr>\n",
       "    <tr>\n",
       "      <th>42151</th>\n",
       "      <td>30923874</td>\n",
       "      <td>vse36m3</td>\n",
       "      <td>2023-12-23 13:14:00-04:00</td>\n",
       "      <td>Yes, definitely check for your application whe...</td>\n",
       "      <td>2480840</td>\n",
       "      <td>14-1991-1999-(E36)</td>\n",
       "    </tr>\n",
       "  </tbody>\n",
       "</table>\n",
       "</div>"
      ],
      "text/plain": [
       "        Post_ID      Username            Posted_on_Date  \\\n",
       "42140  30915257  ryanmkincaid 2023-11-03 12:42:00-04:00   \n",
       "42141  30915261         82eye 2023-11-03 13:02:00-04:00   \n",
       "42142  30915290  ryanmkincaid 2023-11-03 14:40:00-04:00   \n",
       "42143  30915292      sfcarguy 2023-11-03 14:47:00-04:00   \n",
       "42144  30915357         82eye 2023-11-03 21:26:00-04:00   \n",
       "42145  30915371      sfcarguy 2023-11-03 22:18:00-04:00   \n",
       "42146  30915394         82eye 2023-11-04 02:32:00-04:00   \n",
       "42147  30923010       vse36m3 2023-12-17 20:29:00-04:00   \n",
       "42148  30923012      sfcarguy 2023-12-17 21:08:00-04:00   \n",
       "42149  30923083       vse36m3 2023-12-18 11:39:00-04:00   \n",
       "42150  30923404         82eye 2023-12-20 09:21:00-04:00   \n",
       "42151  30923874       vse36m3 2023-12-23 13:14:00-04:00   \n",
       "\n",
       "                                                 content Thread_ID  \\\n",
       "42140  It looks like Rack Doctor is shut down or some...   2480840   \n",
       "42141    \\nunfortunately they went sideways and scamm...   2480840   \n",
       "42142  I saw that brand on dimmer world and while I'm...   2480840   \n",
       "42143  AAE 3310N is the Z3 1.9 rack (2.7 turns) that ...   2480840   \n",
       "42144  all of their e36 racks ship under that number....   2480840   \n",
       "42145  I see what you mean. Looks like AAE only offer...   2480840   \n",
       "42146  wouldn't be surprised if mine is actually one ...   2480840   \n",
       "42147  So far so good with the AAE 3310N for a 1997 M...   2480840   \n",
       "42148  AAE says that their reman rack requires CHF11S...   2480840   \n",
       "42149  They're doing a pretty good job of pushing the...   2480840   \n",
       "42150    \\nmy aae rack came filled with regular red c...   2480840   \n",
       "42151  Yes, definitely check for your application whe...   2480840   \n",
       "\n",
       "              Subsubforum  \n",
       "42140  14-1991-1999-(E36)  \n",
       "42141  14-1991-1999-(E36)  \n",
       "42142  14-1991-1999-(E36)  \n",
       "42143  14-1991-1999-(E36)  \n",
       "42144  14-1991-1999-(E36)  \n",
       "42145  14-1991-1999-(E36)  \n",
       "42146  14-1991-1999-(E36)  \n",
       "42147  14-1991-1999-(E36)  \n",
       "42148  14-1991-1999-(E36)  \n",
       "42149  14-1991-1999-(E36)  \n",
       "42150  14-1991-1999-(E36)  \n",
       "42151  14-1991-1999-(E36)  "
      ]
     },
     "execution_count": 8,
     "metadata": {},
     "output_type": "execute_result"
    }
   ],
   "source": [
    "# ok, lets look at forum thread 2480840\n",
    "df_3er_and_4er_forum_posts_filtered[df_3er_and_4er_forum_posts_filtered[\"Thread_ID\"] == \"2480840\"]"
   ]
  },
  {
   "cell_type": "code",
   "execution_count": 9,
   "metadata": {},
   "outputs": [
    {
     "data": {
      "text/plain": [
       "851    Steering Rack replacement\n",
       "Name: Thread_Title, dtype: object"
      ]
     },
     "execution_count": 9,
     "metadata": {},
     "output_type": "execute_result"
    }
   ],
   "source": [
    "# get the title of this thread\n",
    "df_3er_and_4er_forum_threads[\"Thread_Title\"][df_3er_and_4er_forum_threads[\"Thread_ID\"] == \"2480840\"]"
   ]
  },
  {
   "cell_type": "code",
   "execution_count": 10,
   "metadata": {},
   "outputs": [],
   "source": [
    "# get all the usernames that are "
   ]
  },
  {
   "cell_type": "markdown",
   "metadata": {},
   "source": [
    "## write out the data to .txt files.\n",
    "There should be a folder for every subsubforum, with a .txt file for each thread.  \n",
    "The format should look like the following:  "
   ]
  },
  {
   "cell_type": "code",
   "execution_count": 11,
   "metadata": {},
   "outputs": [],
   "source": [
    "Thread_ID_dot_txt = \"\"\"# <Title>\n",
    "\n",
    "## Question of <username>\n",
    "\n",
    "Posted on Date\n",
    "\n",
    "<Post>\n",
    "\n",
    "## Answers\n",
    "\n",
    "### Post of <username>\n",
    "\n",
    "<Post>\n",
    "\n",
    "\"\"\""
   ]
  },
  {
   "cell_type": "code",
   "execution_count": 19,
   "metadata": {},
   "outputs": [
    {
     "data": {
      "text/html": [
       "<div>\n",
       "<style scoped>\n",
       "    .dataframe tbody tr th:only-of-type {\n",
       "        vertical-align: middle;\n",
       "    }\n",
       "\n",
       "    .dataframe tbody tr th {\n",
       "        vertical-align: top;\n",
       "    }\n",
       "\n",
       "    .dataframe thead th {\n",
       "        text-align: right;\n",
       "    }\n",
       "</style>\n",
       "<table border=\"1\" class=\"dataframe\">\n",
       "  <thead>\n",
       "    <tr style=\"text-align: right;\">\n",
       "      <th></th>\n",
       "      <th>Post_ID</th>\n",
       "      <th>Username</th>\n",
       "      <th>Posted_on_Date</th>\n",
       "      <th>content</th>\n",
       "      <th>Thread_ID</th>\n",
       "      <th>Subsubforum</th>\n",
       "    </tr>\n",
       "  </thead>\n",
       "  <tbody>\n",
       "    <tr>\n",
       "      <th>0</th>\n",
       "      <td>788561</td>\n",
       "      <td>BimmerDawg</td>\n",
       "      <td>2003-03-10 11:17:00-04:00</td>\n",
       "      <td>Hey E21 owners! Post your pics here, tell us y...</td>\n",
       "      <td>81621</td>\n",
       "      <td>143-1975-1983-(E21)</td>\n",
       "    </tr>\n",
       "    <tr>\n",
       "      <th>1</th>\n",
       "      <td>788740</td>\n",
       "      <td>MattE21</td>\n",
       "      <td>2003-03-10 12:44:00-04:00</td>\n",
       "      <td>1982 BMW 320is Hennarot  \\n  \\nDescription  \\n...</td>\n",
       "      <td>81621</td>\n",
       "      <td>143-1975-1983-(E21)</td>\n",
       "    </tr>\n",
       "    <tr>\n",
       "      <th>2</th>\n",
       "      <td>788986</td>\n",
       "      <td>TheNeek</td>\n",
       "      <td>2003-03-10 14:43:00-04:00</td>\n",
       "      <td>Ok, I'll bite.  \\n1981 320i  \\n\\---What it cam...</td>\n",
       "      <td>81621</td>\n",
       "      <td>143-1975-1983-(E21)</td>\n",
       "    </tr>\n",
       "    <tr>\n",
       "      <th>3</th>\n",
       "      <td>793534</td>\n",
       "      <td>jbob</td>\n",
       "      <td>2003-03-11 23:37:00-04:00</td>\n",
       "      <td>whoa, didn't notice this thread until now....a...</td>\n",
       "      <td>81621</td>\n",
       "      <td>143-1975-1983-(E21)</td>\n",
       "    </tr>\n",
       "    <tr>\n",
       "      <th>4</th>\n",
       "      <td>794020</td>\n",
       "      <td>BoostedE21</td>\n",
       "      <td>2003-03-12 02:17:00-04:00</td>\n",
       "      <td>Here goes:  \\n  \\nCar has 250,000+ miles  \\nFr...</td>\n",
       "      <td>81621</td>\n",
       "      <td>143-1975-1983-(E21)</td>\n",
       "    </tr>\n",
       "    <tr>\n",
       "      <th>...</th>\n",
       "      <td>...</td>\n",
       "      <td>...</td>\n",
       "      <td>...</td>\n",
       "      <td>...</td>\n",
       "      <td>...</td>\n",
       "      <td>...</td>\n",
       "    </tr>\n",
       "    <tr>\n",
       "      <th>960</th>\n",
       "      <td>30786945</td>\n",
       "      <td>DavidF</td>\n",
       "      <td>2022-03-12 20:21:00-04:00</td>\n",
       "      <td>Recently picked up a 1982 320i sport survivor,...</td>\n",
       "      <td>81621</td>\n",
       "      <td>143-1975-1983-(E21)</td>\n",
       "    </tr>\n",
       "    <tr>\n",
       "      <th>961</th>\n",
       "      <td>30795810</td>\n",
       "      <td>tbeach54</td>\n",
       "      <td>2022-04-13 14:15:00-04:00</td>\n",
       "      <td>I have been the care taker of an '83 320is for...</td>\n",
       "      <td>81621</td>\n",
       "      <td>143-1975-1983-(E21)</td>\n",
       "    </tr>\n",
       "    <tr>\n",
       "      <th>962</th>\n",
       "      <td>30896843</td>\n",
       "      <td>Pete Hough</td>\n",
       "      <td>2023-07-26 20:17:00-04:00</td>\n",
       "      <td>1978 320i  \\n  \\nJust delivered from Southern ...</td>\n",
       "      <td>81621</td>\n",
       "      <td>143-1975-1983-(E21)</td>\n",
       "    </tr>\n",
       "    <tr>\n",
       "      <th>963</th>\n",
       "      <td>30896845</td>\n",
       "      <td>DavidF</td>\n",
       "      <td>2023-07-26 20:24:00-04:00</td>\n",
       "      <td>OMG, that’s the year and color e21 I drove in ...</td>\n",
       "      <td>81621</td>\n",
       "      <td>143-1975-1983-(E21)</td>\n",
       "    </tr>\n",
       "    <tr>\n",
       "      <th>964</th>\n",
       "      <td>30923653</td>\n",
       "      <td>RickDev1</td>\n",
       "      <td>2023-12-21 21:38:00-04:00</td>\n",
       "      <td>New to the forum. Just purchased a 1979 320i 2...</td>\n",
       "      <td>81621</td>\n",
       "      <td>143-1975-1983-(E21)</td>\n",
       "    </tr>\n",
       "  </tbody>\n",
       "</table>\n",
       "<p>965 rows × 6 columns</p>\n",
       "</div>"
      ],
      "text/plain": [
       "      Post_ID    Username            Posted_on_Date  \\\n",
       "0      788561  BimmerDawg 2003-03-10 11:17:00-04:00   \n",
       "1      788740     MattE21 2003-03-10 12:44:00-04:00   \n",
       "2      788986     TheNeek 2003-03-10 14:43:00-04:00   \n",
       "3      793534        jbob 2003-03-11 23:37:00-04:00   \n",
       "4      794020  BoostedE21 2003-03-12 02:17:00-04:00   \n",
       "..        ...         ...                       ...   \n",
       "960  30786945      DavidF 2022-03-12 20:21:00-04:00   \n",
       "961  30795810    tbeach54 2022-04-13 14:15:00-04:00   \n",
       "962  30896843  Pete Hough 2023-07-26 20:17:00-04:00   \n",
       "963  30896845      DavidF 2023-07-26 20:24:00-04:00   \n",
       "964  30923653    RickDev1 2023-12-21 21:38:00-04:00   \n",
       "\n",
       "                                               content Thread_ID  \\\n",
       "0    Hey E21 owners! Post your pics here, tell us y...     81621   \n",
       "1    1982 BMW 320is Hennarot  \\n  \\nDescription  \\n...     81621   \n",
       "2    Ok, I'll bite.  \\n1981 320i  \\n\\---What it cam...     81621   \n",
       "3    whoa, didn't notice this thread until now....a...     81621   \n",
       "4    Here goes:  \\n  \\nCar has 250,000+ miles  \\nFr...     81621   \n",
       "..                                                 ...       ...   \n",
       "960  Recently picked up a 1982 320i sport survivor,...     81621   \n",
       "961  I have been the care taker of an '83 320is for...     81621   \n",
       "962  1978 320i  \\n  \\nJust delivered from Southern ...     81621   \n",
       "963  OMG, that’s the year and color e21 I drove in ...     81621   \n",
       "964  New to the forum. Just purchased a 1979 320i 2...     81621   \n",
       "\n",
       "             Subsubforum  \n",
       "0    143-1975-1983-(E21)  \n",
       "1    143-1975-1983-(E21)  \n",
       "2    143-1975-1983-(E21)  \n",
       "3    143-1975-1983-(E21)  \n",
       "4    143-1975-1983-(E21)  \n",
       "..                   ...  \n",
       "960  143-1975-1983-(E21)  \n",
       "961  143-1975-1983-(E21)  \n",
       "962  143-1975-1983-(E21)  \n",
       "963  143-1975-1983-(E21)  \n",
       "964  143-1975-1983-(E21)  \n",
       "\n",
       "[965 rows x 6 columns]"
      ]
     },
     "execution_count": 19,
     "metadata": {},
     "output_type": "execute_result"
    }
   ],
   "source": [
    "df_thread"
   ]
  },
  {
   "cell_type": "code",
   "execution_count": 34,
   "metadata": {},
   "outputs": [
    {
     "data": {
      "text/plain": [
       "'st of\\nit\\x92s problems Wish me luck.  \\n<o:p> </o:p>  '"
      ]
     },
     "execution_count": 34,
     "metadata": {},
     "output_type": "execute_result"
    }
   ],
   "source": [
    "df_thread[\"content\"].iloc[273][600:650]"
   ]
  },
  {
   "cell_type": "code",
   "execution_count": 39,
   "metadata": {},
   "outputs": [
    {
     "data": {
      "text/plain": [
       "'st of\\nit\\x92s problems Wish me luck.  \\n<o:p> </o:p>  '"
      ]
     },
     "execution_count": 39,
     "metadata": {},
     "output_type": "execute_result"
    }
   ],
   "source": [
    "df_thread[\"content\"].iloc[273][600:650]"
   ]
  },
  {
   "cell_type": "code",
   "execution_count": 40,
   "metadata": {},
   "outputs": [],
   "source": [
    "with open(f\"data/forum_threads/test.md\", \"w\", encoding=\"utf-8\") as f:\n",
    "    f.write(df_thread[\"content\"].iloc[273][600:609])\n"
   ]
  },
  {
   "cell_type": "code",
   "execution_count": 42,
   "metadata": {},
   "outputs": [],
   "source": [
    "# go through all posts and then create one markdown file for each thread\n",
    "# save the markdown file in the folder /data/forum_threads\n",
    "\n",
    "for thread_id in df_3er_and_4er_forum_posts_filtered[\"Thread_ID\"].unique():\n",
    "    df_thread = df_3er_and_4er_forum_posts_filtered[df_3er_and_4er_forum_posts_filtered[\"Thread_ID\"] == thread_id]\n",
    "    title = df_3er_and_4er_forum_threads[\"Thread_Title\"][df_3er_and_4er_forum_threads[\"Thread_ID\"] == thread_id].values[0]\n",
    "    with open(f\"data/forum_threads/{thread_id}.md\", \"w\", encoding=\"utf-8\", errors='surrogatepass') as f:\n",
    "        f.write(f\"\"\"# {title}\n",
    "\n",
    "## Question of {bmapping[df_thread[\"Username\"].iloc[0]]}\n",
    "\n",
    "Posted on {df_thread[\"Posted_on_Date\"].min()}\n",
    "\n",
    "{df_thread[\"content\"].iloc[0]}\n",
    "## Answers\n",
    "\n",
    "\"\"\")\n",
    "        for index, row in df_thread.iterrows():\n",
    "            if index == 0:\n",
    "                continue\n",
    "            f.write(f\"### Post of {bmapping[row[\"Username\"]]}\\n\\n\")\n",
    "            f.write(f\"{row['content']}\")"
   ]
  }
 ],
 "metadata": {
  "kernelspec": {
   "display_name": "venv",
   "language": "python",
   "name": "python3"
  },
  "language_info": {
   "codemirror_mode": {
    "name": "ipython",
    "version": 3
   },
   "file_extension": ".py",
   "mimetype": "text/x-python",
   "name": "python",
   "nbconvert_exporter": "python",
   "pygments_lexer": "ipython3",
   "version": "3.12.0"
  }
 },
 "nbformat": 4,
 "nbformat_minor": 2
}
